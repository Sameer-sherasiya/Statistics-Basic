{
  "nbformat": 4,
  "nbformat_minor": 0,
  "metadata": {
    "colab": {
      "provenance": []
    },
    "kernelspec": {
      "name": "python3",
      "display_name": "Python 3"
    },
    "language_info": {
      "name": "python"
    }
  },
  "cells": [
    {
      "cell_type": "markdown",
      "source": [
        "# Statistics Basics"
      ],
      "metadata": {
        "id": "X2_ptdRhef3j"
      }
    },
    {
      "cell_type": "markdown",
      "source": [
        "1.Explain the different types of data (qualitative and quantitative) and provide examples of each. Discuss nominal, ordinal, interval, and ratio scales.\n",
        " - **Type** **of** **Data**\n",
        "  - **Qualitative** **Data**: Descriptive data that cannot be measured numerically.\n",
        "    - Examples: Eye color (blue, brown), Types of cars (SUV, sedan).\n",
        "  - **Quantitative** **Data**: Numerical data that can be measured and expressed in numbers.\n",
        "    - **Examples**: Age (25,30), Salary ($50,000).\n",
        "  - **Scales** **of** **Measurement**:\n",
        "    - **Nominal**:Categories without order(e.g, gender:male/female).\n",
        "    - **Ordinal**:Ordered categories (e.g, satisfaction level: low, medium, high).\n",
        "    - **Interval**: Numeric scales with equal intervals but no true zero (e.g, temperature in celsius).\n",
        "    - **Ratio**:Numeric scales with a true zero(e.g,weight, height)."
      ],
      "metadata": {
        "id": "30I8BY-6etNb"
      }
    },
    {
      "cell_type": "markdown",
      "source": [
        "2.What are the measures of central tendancy, and when should you use each? Discuss the mean, median, and mode with examples and situations where each is appropriate.\n",
        "\n",
        " - **Measures** **of** **Central** **Tendency**:\n",
        "\n",
        "   - **Mean**: The average vakue.\n",
        "      - Use when data is symmetrically distributed.\n",
        "      - Example: Averege score of a cass.\n",
        "   - **Median**: The middle value when data is ordered.\n",
        "      - Use for skewed data or outliers.\n",
        "      - Example: Median income in a city.\n",
        "   - **Mode**: The most frequent value.\n",
        "      - Use for categorical data or data with repeated values.\n",
        "      - Example: Most common shoe size sold."
      ],
      "metadata": {
        "id": "gbrw4lPtetBu"
      }
    },
    {
      "cell_type": "markdown",
      "source": [
        "3.Explain the concept of dispersion. How do variance and standard deviation measure the spread of data?\n",
        " - **Concept** **of** **Dispersion**:\n",
        "  - Dispersion measures the spread of data around the central value.\n",
        "  - **Variance**: The average squared deviation from the mean.\n",
        "    - High variance indicates data is spread out.\n",
        "  - **Standard** **Deviation**(SD): The square root of variance.\n",
        "    - Easy to interpret in the same untils the data\n"
      ],
      "metadata": {
        "id": "rjSf_4YJes0u"
      }
    },
    {
      "cell_type": "markdown",
      "source": [
        "4.What is a box plot, and what can it tell you about the distribution of data?\n",
        " - **Box** **Plot**:\n",
        "  - A box plot visually represent the distribution of data.\n",
        "    - **Features**: Median, quartiles, whiskers, and outliers.\n",
        "    - It helps identify skewness, spread, and outliers."
      ],
      "metadata": {
        "id": "MXZ-uJ8iespB"
      }
    },
    {
      "cell_type": "markdown",
      "source": [
        "5.Discuss the role of random sampling in making inferences about populations.\n",
        " - **Random** **Sampling**:\n",
        "  - Random sampling ensures every individual has an equal chance of selection.\n",
        "  - It minimizes bias and supports statistical inferences about the population."
      ],
      "metadata": {
        "id": "-I5s065-esdC"
      }
    },
    {
      "cell_type": "markdown",
      "source": [
        "6.Explain the concept of skewness and its types. How does skewness affect the interpretation of data?\n",
        "- Skewness:\n",
        "  - Measures the asymmetry of the data distribution.\n",
        "    - **Positive** **Skew**: Tail on the right (e.g,income data).\n",
        "    - **Negative** **Skew**: Tail on the left.\n",
        "    -  **symmetrical** **Distribution**: No skew\n",
        " - Skewness affects central tendency measures; e.g.,mean is affected by extreme values in skewed data."
      ],
      "metadata": {
        "id": "1Fmwd464esOd"
      }
    },
    {
      "cell_type": "markdown",
      "source": [
        "7.What is the interquartile range (IQR), and how is it used to detect outliers?\n",
        "- **Interquartile** **Range** (**IQR**):\n",
        " - IQR = Q3 - Q1 (difference between the thrid and first quartiles).\n",
        " - Detects outliers:\n",
        "   - Outliers lie below  Q1-1.5 * IQR or  above  Q3 + 1.5 * IQR."
      ],
      "metadata": {
        "id": "F6JIch0hesDC"
      }
    },
    {
      "cell_type": "markdown",
      "source": [
        "8.Discuss the conditions under which the binomial distribution is used.\n",
        " - **Binomial** **Distribution**:\n",
        "  - Used for experiments with:\n",
        "    - Fixed number of trials.\n",
        "    - Two outcomes (success/failure)\n",
        "    - Independent trials.\n",
        "\n",
        "  - Example:Flipping a coin 10 times to fine the probability of 6 heads."
      ],
      "metadata": {
        "id": "EjnJ7uEver1N"
      }
    },
    {
      "cell_type": "markdown",
      "source": [
        "9.Explain the properties of the normal distribution and the empirical rule (68-95-99.7rule).\n",
        "  - **Properties** **of** **Normal** **Distribution**:\n",
        "   - Symmetrical, bell-shaped curve.\n",
        "   - Mean = Median = Mode.\n",
        "  - **Empirical** **Rule**:\n",
        "   - 68% of data falls within 1 SD of the mean.\n",
        "   - 95% within 2 SDs.\n",
        "   - 99.7% within 3 SDs."
      ],
      "metadata": {
        "id": "6s_G5aFCerpg"
      }
    },
    {
      "cell_type": "markdown",
      "source": [
        "10.Provide a real-life example of a Poisson process and calculate the probability for a specific event.\n",
        "  - **Poisson** **Process** **Example**:\n",
        "   - Example: Counting the number of emails recived per hour.\n",
        "    - If the average is 5 emails/hours, the probability of receiving 7 emails in an hour:\n",
        "      \n",
        "      P(X = k) =  (λ^k * e^-λ) / k!\n",
        "\n",
        "      where, λ = 5, k = 7."
      ],
      "metadata": {
        "id": "I6RPppFverdk"
      }
    },
    {
      "cell_type": "markdown",
      "source": [
        "11.Explain what a random variable is and differentiate between discrete and continuous random variables.\n",
        " - **Random** **variable**:A variable whose values depend on outcomes of a random process.\n",
        "\n",
        "  - **Discrete**:Countable values (e.g.,number of children).\n",
        "  - **Continuous**:Any value within a range(e.g.,height).\n"
      ],
      "metadata": {
        "id": "wyZCGG65erKT"
      }
    },
    {
      "cell_type": "markdown",
      "source": [
        "12.Provide an example dataset, calculate both covariance and correlation, and interpret the results.\n",
        " - **Covariance** **and** **Correlation** **Example**:\n",
        "  - **Dataset**: (X,Y) = {(1,2),(2,3),(3,6)}.\n",
        "   - **Covariance**: Measures the directional relationship between variable.\n",
        "   - **Correlation**: Standardized covariance (range from -1 to +1).\n",
        "   - Calculation shoes strenght and direction of the relationship."
      ],
      "metadata": {
        "id": "-sp1rZM3eqsJ"
      }
    }
  ]
}